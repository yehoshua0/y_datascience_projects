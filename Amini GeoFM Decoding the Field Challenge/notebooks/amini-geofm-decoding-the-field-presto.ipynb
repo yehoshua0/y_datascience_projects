{
 "cells": [
  {
   "cell_type": "code",
   "execution_count": 1,
   "id": "c09b3b15",
   "metadata": {
    "execution": {
     "iopub.execute_input": "2025-07-17T19:25:13.670188Z",
     "iopub.status.busy": "2025-07-17T19:25:13.669651Z",
     "iopub.status.idle": "2025-07-17T19:25:13.675764Z",
     "shell.execute_reply": "2025-07-17T19:25:13.674690Z"
    },
    "papermill": {
     "duration": 0.021897,
     "end_time": "2025-07-17T19:25:13.677451",
     "exception": false,
     "start_time": "2025-07-17T19:25:13.655554",
     "status": "completed"
    },
    "tags": []
   },
   "outputs": [],
   "source": [
    "# Amini GeoFM Decoding the Field Challenge\n",
    "# Can you train a geospatial foundation model to classify crops from Space?\n",
    "# https://zindi.africa/competitions/amini-geofm-decoding-the-field-challenge\n",
    "\n",
    "# BY DASH_🤖\n",
    "# PUBLIC LEADERBOARD 1.008840293\n",
    "# PRIVATE LEADERBOARD ---\n",
    "# MOTIVATION 0.879390227\n",
    "# RANK 49"
   ]
  },
  {
   "cell_type": "code",
   "execution_count": 2,
   "id": "9fd4487c",
   "metadata": {
    "execution": {
     "iopub.execute_input": "2025-07-17T19:25:13.691266Z",
     "iopub.status.busy": "2025-07-17T19:25:13.689883Z",
     "iopub.status.idle": "2025-07-17T19:25:13.694673Z",
     "shell.execute_reply": "2025-07-17T19:25:13.693844Z"
    },
    "papermill": {
     "duration": 0.012781,
     "end_time": "2025-07-17T19:25:13.696161",
     "exception": false,
     "start_time": "2025-07-17T19:25:13.683380",
     "status": "completed"
    },
    "tags": []
   },
   "outputs": [],
   "source": [
    "# TODOS\n",
    "# 3. Run HPO with Optuna"
   ]
  },
  {
   "cell_type": "code",
   "execution_count": 3,
   "id": "431c22b3",
   "metadata": {
    "execution": {
     "iopub.execute_input": "2025-07-17T19:25:13.708728Z",
     "iopub.status.busy": "2025-07-17T19:25:13.708427Z",
     "iopub.status.idle": "2025-07-17T19:27:38.666535Z",
     "shell.execute_reply": "2025-07-17T19:27:38.664524Z"
    },
    "papermill": {
     "duration": 144.968544,
     "end_time": "2025-07-17T19:27:38.670400",
     "exception": false,
     "start_time": "2025-07-17T19:25:13.701856",
     "status": "completed"
    },
    "tags": []
   },
   "outputs": [],
   "source": [
    "%%capture\n",
    "\n",
    "# Prerequisites \n",
    "!pip install geoml-presto\n",
    "!pip install --upgrade geopandas fiona shapely\n",
    "!pip install rasterio\n",
    "!pip freeze > requirements.txt"
   ]
  },
  {
   "cell_type": "code",
   "execution_count": 4,
   "id": "5f90a122",
   "metadata": {
    "execution": {
     "iopub.execute_input": "2025-07-17T19:27:38.687160Z",
     "iopub.status.busy": "2025-07-17T19:27:38.686750Z",
     "iopub.status.idle": "2025-07-17T19:27:38.809953Z",
     "shell.execute_reply": "2025-07-17T19:27:38.808457Z"
    },
    "papermill": {
     "duration": 0.133322,
     "end_time": "2025-07-17T19:27:38.811962",
     "exception": false,
     "start_time": "2025-07-17T19:27:38.678640",
     "status": "completed"
    },
    "tags": []
   },
   "outputs": [
    {
     "name": "stdout",
     "output_type": "stream",
     "text": [
      "/bin/bash: line 1: nvidia-smi: command not found\r\n"
     ]
    }
   ],
   "source": [
    "!nvidia-smi"
   ]
  },
  {
   "cell_type": "code",
   "execution_count": 5,
   "id": "9f65079b",
   "metadata": {
    "execution": {
     "iopub.execute_input": "2025-07-17T19:27:38.825046Z",
     "iopub.status.busy": "2025-07-17T19:27:38.824657Z",
     "iopub.status.idle": "2025-07-17T19:27:42.798163Z",
     "shell.execute_reply": "2025-07-17T19:27:42.797011Z"
    },
    "papermill": {
     "duration": 3.982192,
     "end_time": "2025-07-17T19:27:42.800020",
     "exception": false,
     "start_time": "2025-07-17T19:27:38.817828",
     "status": "completed"
    },
    "tags": []
   },
   "outputs": [
    {
     "name": "stdout",
     "output_type": "stream",
     "text": [
      "Device: cpu\n"
     ]
    }
   ],
   "source": [
    "import torch\n",
    "\n",
    "device = torch.device(\"cuda\" if torch.cuda.is_available() else \"cpu\")\n",
    "print(\"Device:\", device)"
   ]
  },
  {
   "cell_type": "code",
   "execution_count": 6,
   "id": "fcfaa3d9",
   "metadata": {
    "execution": {
     "iopub.execute_input": "2025-07-17T19:27:42.815806Z",
     "iopub.status.busy": "2025-07-17T19:27:42.815359Z",
     "iopub.status.idle": "2025-07-17T19:27:42.820400Z",
     "shell.execute_reply": "2025-07-17T19:27:42.819207Z"
    },
    "papermill": {
     "duration": 0.015952,
     "end_time": "2025-07-17T19:27:42.821816",
     "exception": false,
     "start_time": "2025-07-17T19:27:42.805864",
     "status": "completed"
    },
    "tags": []
   },
   "outputs": [],
   "source": [
    "import time\n",
    "start_time = time.time()"
   ]
  },
  {
   "cell_type": "code",
   "execution_count": 7,
   "id": "f9fe99d0",
   "metadata": {
    "execution": {
     "iopub.execute_input": "2025-07-17T19:27:42.834850Z",
     "iopub.status.busy": "2025-07-17T19:27:42.834520Z",
     "iopub.status.idle": "2025-07-17T19:28:14.002248Z",
     "shell.execute_reply": "2025-07-17T19:28:14.001223Z"
    },
    "papermill": {
     "duration": 31.176611,
     "end_time": "2025-07-17T19:28:14.004274",
     "exception": false,
     "start_time": "2025-07-17T19:27:42.827663",
     "status": "completed"
    },
    "tags": []
   },
   "outputs": [],
   "source": [
    "import xarray\n",
    "from pyproj import Transformer\n",
    "import numpy as np\n",
    "from scipy import stats\n",
    "from sklearn.ensemble import RandomForestClassifier\n",
    "from sklearn.metrics import log_loss\n",
    "\n",
    "from tqdm import tqdm\n",
    "from torch.utils.data import DataLoader, TensorDataset\n",
    "\n",
    "import presto\n",
    "\n",
    "# this is to silence the xarray deprecation warning.\n",
    "# Our version of xarray is pinned, but we'll need to fix this\n",
    "# when we upgrade\n",
    "import warnings\n",
    "warnings.filterwarnings(\"ignore\") "
   ]
  },
  {
   "cell_type": "code",
   "execution_count": 8,
   "id": "23c24a8b",
   "metadata": {
    "execution": {
     "iopub.execute_input": "2025-07-17T19:28:14.018859Z",
     "iopub.status.busy": "2025-07-17T19:28:14.017990Z",
     "iopub.status.idle": "2025-07-17T19:28:14.030713Z",
     "shell.execute_reply": "2025-07-17T19:28:14.029824Z"
    },
    "papermill": {
     "duration": 0.022155,
     "end_time": "2025-07-17T19:28:14.032596",
     "exception": false,
     "start_time": "2025-07-17T19:28:14.010441",
     "status": "completed"
    },
    "tags": []
   },
   "outputs": [],
   "source": [
    "import random\n",
    "\n",
    "SEED = 42\n",
    "random.seed(SEED)\n",
    "np.random.seed(SEED)\n",
    "torch.manual_seed(SEED)\n",
    "torch.cuda.manual_seed(SEED)"
   ]
  },
  {
   "cell_type": "code",
   "execution_count": 9,
   "id": "74e9fbe5",
   "metadata": {
    "execution": {
     "iopub.execute_input": "2025-07-17T19:28:14.045590Z",
     "iopub.status.busy": "2025-07-17T19:28:14.045268Z",
     "iopub.status.idle": "2025-07-17T19:28:14.050044Z",
     "shell.execute_reply": "2025-07-17T19:28:14.049184Z"
    },
    "papermill": {
     "duration": 0.013129,
     "end_time": "2025-07-17T19:28:14.051755",
     "exception": false,
     "start_time": "2025-07-17T19:28:14.038626",
     "status": "completed"
    },
    "tags": []
   },
   "outputs": [],
   "source": [
    "from pathlib import Path\n",
    "\n",
    "DATA = Path(\"/kaggle/input/cote-divoire-byte-sized-agriculture-challenge/cote-divoire-byte-sized-agriculture-challenge/S2Images/S2Images\")\n",
    "TRAIN_PATH = \"/kaggle/input/cote-divoire-byte-sized-agriculture-challenge/cote-divoire-byte-sized-agriculture-challenge/TrainDataset.csv\""
   ]
  },
  {
   "cell_type": "code",
   "execution_count": 10,
   "id": "899a86ab",
   "metadata": {
    "execution": {
     "iopub.execute_input": "2025-07-17T19:28:14.064718Z",
     "iopub.status.busy": "2025-07-17T19:28:14.063801Z",
     "iopub.status.idle": "2025-07-17T19:28:14.151545Z",
     "shell.execute_reply": "2025-07-17T19:28:14.150349Z"
    },
    "papermill": {
     "duration": 0.09579,
     "end_time": "2025-07-17T19:28:14.153224",
     "exception": false,
     "start_time": "2025-07-17T19:28:14.057434",
     "status": "completed"
    },
    "tags": []
   },
   "outputs": [
    {
     "data": {
      "text/html": [
       "<div>\n",
       "<style scoped>\n",
       "    .dataframe tbody tr th:only-of-type {\n",
       "        vertical-align: middle;\n",
       "    }\n",
       "\n",
       "    .dataframe tbody tr th {\n",
       "        vertical-align: top;\n",
       "    }\n",
       "\n",
       "    .dataframe thead th {\n",
       "        text-align: right;\n",
       "    }\n",
       "</style>\n",
       "<table border=\"1\" class=\"dataframe\">\n",
       "  <thead>\n",
       "    <tr style=\"text-align: right;\">\n",
       "      <th></th>\n",
       "      <th>ID</th>\n",
       "      <th>year</th>\n",
       "      <th>month</th>\n",
       "      <th>tifPath</th>\n",
       "      <th>Target</th>\n",
       "      <th>class</th>\n",
       "      <th>crop_type</th>\n",
       "    </tr>\n",
       "  </thead>\n",
       "  <tbody>\n",
       "    <tr>\n",
       "      <th>0</th>\n",
       "      <td>ID_h14T0B_Jan</td>\n",
       "      <td>2024</td>\n",
       "      <td>Jan</td>\n",
       "      <td>/content/drive/MyDrive/train_s2_images_new_fin...</td>\n",
       "      <td>Rubber</td>\n",
       "      <td>3</td>\n",
       "      <td>rubber</td>\n",
       "    </tr>\n",
       "    <tr>\n",
       "      <th>1</th>\n",
       "      <td>ID_KbyKOr_Jan</td>\n",
       "      <td>2024</td>\n",
       "      <td>Jan</td>\n",
       "      <td>/content/drive/MyDrive/train_s2_images_new_fin...</td>\n",
       "      <td>Rubber</td>\n",
       "      <td>3</td>\n",
       "      <td>rubber</td>\n",
       "    </tr>\n",
       "    <tr>\n",
       "      <th>2</th>\n",
       "      <td>ID_t4Tmmn_Jan</td>\n",
       "      <td>2024</td>\n",
       "      <td>Jan</td>\n",
       "      <td>/content/drive/MyDrive/train_s2_images_new_fin...</td>\n",
       "      <td>Rubber</td>\n",
       "      <td>3</td>\n",
       "      <td>rubber</td>\n",
       "    </tr>\n",
       "    <tr>\n",
       "      <th>3</th>\n",
       "      <td>ID_yipWoC_Jan</td>\n",
       "      <td>2024</td>\n",
       "      <td>Jan</td>\n",
       "      <td>/content/drive/MyDrive/train_s2_images_new_fin...</td>\n",
       "      <td>Rubber</td>\n",
       "      <td>3</td>\n",
       "      <td>rubber</td>\n",
       "    </tr>\n",
       "    <tr>\n",
       "      <th>4</th>\n",
       "      <td>ID_XKiksa_Jan</td>\n",
       "      <td>2024</td>\n",
       "      <td>Jan</td>\n",
       "      <td>/content/drive/MyDrive/train_s2_images_new_fin...</td>\n",
       "      <td>Rubber</td>\n",
       "      <td>3</td>\n",
       "      <td>rubber</td>\n",
       "    </tr>\n",
       "  </tbody>\n",
       "</table>\n",
       "</div>"
      ],
      "text/plain": [
       "              ID  year month  \\\n",
       "0  ID_h14T0B_Jan  2024   Jan   \n",
       "1  ID_KbyKOr_Jan  2024   Jan   \n",
       "2  ID_t4Tmmn_Jan  2024   Jan   \n",
       "3  ID_yipWoC_Jan  2024   Jan   \n",
       "4  ID_XKiksa_Jan  2024   Jan   \n",
       "\n",
       "                                             tifPath  Target  class crop_type  \n",
       "0  /content/drive/MyDrive/train_s2_images_new_fin...  Rubber      3    rubber  \n",
       "1  /content/drive/MyDrive/train_s2_images_new_fin...  Rubber      3    rubber  \n",
       "2  /content/drive/MyDrive/train_s2_images_new_fin...  Rubber      3    rubber  \n",
       "3  /content/drive/MyDrive/train_s2_images_new_fin...  Rubber      3    rubber  \n",
       "4  /content/drive/MyDrive/train_s2_images_new_fin...  Rubber      3    rubber  "
      ]
     },
     "metadata": {},
     "output_type": "display_data"
    },
    {
     "data": {
      "text/plain": [
       "crop_type\n",
       "rubber    4860\n",
       "oil       3756\n",
       "cocoa     2820\n",
       "Name: count, dtype: int64"
      ]
     },
     "execution_count": 10,
     "metadata": {},
     "output_type": "execute_result"
    }
   ],
   "source": [
    "import pandas as pd\n",
    "\n",
    "train = pd.read_csv(TRAIN_PATH)\n",
    "train['crop_type'] = train.Target.str.lower().str.strip()\n",
    "train.crop_type = train.crop_type.replace({'palm': 'oil'})\n",
    "\n",
    "# Preview\n",
    "display(train.head())\n",
    "\n",
    "# Class distribution\n",
    "train.crop_type.value_counts()"
   ]
  },
  {
   "cell_type": "code",
   "execution_count": 11,
   "id": "1f7946d3",
   "metadata": {
    "execution": {
     "iopub.execute_input": "2025-07-17T19:28:14.167003Z",
     "iopub.status.busy": "2025-07-17T19:28:14.166613Z",
     "iopub.status.idle": "2025-07-17T19:28:14.419382Z",
     "shell.execute_reply": "2025-07-17T19:28:14.418403Z"
    },
    "papermill": {
     "duration": 0.261232,
     "end_time": "2025-07-17T19:28:14.420945",
     "exception": false,
     "start_time": "2025-07-17T19:28:14.159713",
     "status": "completed"
    },
    "tags": []
   },
   "outputs": [
    {
     "data": {
      "image/png": "[encoded data removed]",
      "text/plain": [
       "<Figure size 800x600 with 1 Axes>"
      ]
     },
     "metadata": {},
     "output_type": "display_data"
    }
   ],
   "source": [
    "import matplotlib.pyplot as plt\n",
    "\n",
    "# Data from train.crop_type.value_counts()\n",
    "crop_types = ['Rubber', 'Cocoa', 'Oil']\n",
    "counts = [4860, 2820, 3756]\n",
    "colors = ['teal', 'red', 'gold']\n",
    "\n",
    "# Create bar plot\n",
    "plt.figure(figsize=(8, 6))\n",
    "plt.bar(crop_types, counts, color=colors, edgecolor='black')\n",
    "plt.title('Distribution of Crop Types in Training Data')\n",
    "plt.xlabel('Crop Type')\n",
    "plt.ylabel('Number of Samples')\n",
    "plt.show()"
   ]
  },
  {
   "cell_type": "code",
   "execution_count": 12,
   "id": "33b55f1c",
   "metadata": {
    "execution": {
     "iopub.execute_input": "2025-07-17T19:28:14.435476Z",
     "iopub.status.busy": "2025-07-17T19:28:14.435118Z",
     "iopub.status.idle": "2025-07-17T19:28:14.452661Z",
     "shell.execute_reply": "2025-07-17T19:28:14.451720Z"
    },
    "papermill": {
     "duration": 0.026745,
     "end_time": "2025-07-17T19:28:14.454583",
     "exception": false,
     "start_time": "2025-07-17T19:28:14.427838",
     "status": "completed"
    },
    "tags": []
   },
   "outputs": [],
   "source": [
    "bytesized_folder = Path(DATA)\n",
    "assert bytesized_folder.exists()\n",
    "\n",
    "train_data = bytesized_folder / \"train\"\n",
    "assert train_data.exists()"
   ]
  },
  {
   "cell_type": "code",
   "execution_count": 13,
   "id": "d80c4ada",
   "metadata": {
    "execution": {
     "iopub.execute_input": "2025-07-17T19:28:14.469516Z",
     "iopub.status.busy": "2025-07-17T19:28:14.469173Z",
     "iopub.status.idle": "2025-07-17T19:28:14.551652Z",
     "shell.execute_reply": "2025-07-17T19:28:14.550650Z"
    },
    "papermill": {
     "duration": 0.091727,
     "end_time": "2025-07-17T19:28:14.553327",
     "exception": false,
     "start_time": "2025-07-17T19:28:14.461600",
     "status": "completed"
    },
    "tags": []
   },
   "outputs": [
    {
     "data": {
      "text/plain": [
       "(7433, 7)"
      ]
     },
     "metadata": {},
     "output_type": "display_data"
    },
    {
     "data": {
      "text/html": [
       "<div>\n",
       "<style scoped>\n",
       "    .dataframe tbody tr th:only-of-type {\n",
       "        vertical-align: middle;\n",
       "    }\n",
       "\n",
       "    .dataframe tbody tr th {\n",
       "        vertical-align: top;\n",
       "    }\n",
       "\n",
       "    .dataframe thead th {\n",
       "        text-align: right;\n",
       "    }\n",
       "</style>\n",
       "<table border=\"1\" class=\"dataframe\">\n",
       "  <thead>\n",
       "    <tr style=\"text-align: right;\">\n",
       "      <th></th>\n",
       "      <th>ID</th>\n",
       "      <th>year</th>\n",
       "      <th>month</th>\n",
       "      <th>tifPath</th>\n",
       "      <th>Target</th>\n",
       "      <th>class</th>\n",
       "      <th>crop_type</th>\n",
       "    </tr>\n",
       "  </thead>\n",
       "  <tbody>\n",
       "    <tr>\n",
       "      <th>0</th>\n",
       "      <td>ID_h14T0B_Jan</td>\n",
       "      <td>2024</td>\n",
       "      <td>Jan</td>\n",
       "      <td>/kaggle/input/cote-divoire-byte-sized-agricult...</td>\n",
       "      <td>Rubber</td>\n",
       "      <td>3</td>\n",
       "      <td>rubber</td>\n",
       "    </tr>\n",
       "    <tr>\n",
       "      <th>1</th>\n",
       "      <td>ID_KbyKOr_Jan</td>\n",
       "      <td>2024</td>\n",
       "      <td>Jan</td>\n",
       "      <td>/kaggle/input/cote-divoire-byte-sized-agricult...</td>\n",
       "      <td>Rubber</td>\n",
       "      <td>3</td>\n",
       "      <td>rubber</td>\n",
       "    </tr>\n",
       "    <tr>\n",
       "      <th>2</th>\n",
       "      <td>ID_t4Tmmn_Jan</td>\n",
       "      <td>2024</td>\n",
       "      <td>Jan</td>\n",
       "      <td>/kaggle/input/cote-divoire-byte-sized-agricult...</td>\n",
       "      <td>Rubber</td>\n",
       "      <td>3</td>\n",
       "      <td>rubber</td>\n",
       "    </tr>\n",
       "    <tr>\n",
       "      <th>3</th>\n",
       "      <td>ID_yipWoC_Jan</td>\n",
       "      <td>2024</td>\n",
       "      <td>Jan</td>\n",
       "      <td>/kaggle/input/cote-divoire-byte-sized-agricult...</td>\n",
       "      <td>Rubber</td>\n",
       "      <td>3</td>\n",
       "      <td>rubber</td>\n",
       "    </tr>\n",
       "    <tr>\n",
       "      <th>4</th>\n",
       "      <td>ID_XKiksa_Jan</td>\n",
       "      <td>2024</td>\n",
       "      <td>Jan</td>\n",
       "      <td>/kaggle/input/cote-divoire-byte-sized-agricult...</td>\n",
       "      <td>Rubber</td>\n",
       "      <td>3</td>\n",
       "      <td>rubber</td>\n",
       "    </tr>\n",
       "  </tbody>\n",
       "</table>\n",
       "</div>"
      ],
      "text/plain": [
       "              ID  year month  \\\n",
       "0  ID_h14T0B_Jan  2024   Jan   \n",
       "1  ID_KbyKOr_Jan  2024   Jan   \n",
       "2  ID_t4Tmmn_Jan  2024   Jan   \n",
       "3  ID_yipWoC_Jan  2024   Jan   \n",
       "4  ID_XKiksa_Jan  2024   Jan   \n",
       "\n",
       "                                             tifPath  Target  class crop_type  \n",
       "0  /kaggle/input/cote-divoire-byte-sized-agricult...  Rubber      3    rubber  \n",
       "1  /kaggle/input/cote-divoire-byte-sized-agricult...  Rubber      3    rubber  \n",
       "2  /kaggle/input/cote-divoire-byte-sized-agricult...  Rubber      3    rubber  \n",
       "3  /kaggle/input/cote-divoire-byte-sized-agricult...  Rubber      3    rubber  \n",
       "4  /kaggle/input/cote-divoire-byte-sized-agricult...  Rubber      3    rubber  "
      ]
     },
     "execution_count": 13,
     "metadata": {},
     "output_type": "execute_result"
    }
   ],
   "source": [
    "from typing import Union\n",
    "\n",
    "# Update a TIFF file path\n",
    "def update_tif_path(path: Union[str, float]) -> str:\n",
    "    \"\"\"\n",
    "    Update a TIFF file path to point to a standardized directory structure.\n",
    "\n",
    "    Args:\n",
    "        path (Union[str, float]): Original file path containing 'train' or 'test' and a filename.\n",
    "                                 Can be a float (e.g., NaN) for invalid entries.\n",
    "\n",
    "    Returns:\n",
    "        str: Updated path as a string pointing to the file in the base directory.\n",
    "\n",
    "    Raises:\n",
    "        ValueError: If the path is empty, lacks a filename, or doesn't contain 'train' or 'test'.\n",
    "    \"\"\"\n",
    "    # Handle NaN or non-string inputs\n",
    "    if pd.isna(path) or not isinstance(path, str):\n",
    "        raise ValueError(f\"Invalid path: {path} is not a valid string path\")\n",
    "\n",
    "    if not path:\n",
    "        raise ValueError(\"Input path cannot be empty\")\n",
    "\n",
    "    # Extract filename using Path for cross-platform compatibility\n",
    "    filename = Path(path).name\n",
    "    if not filename:\n",
    "        raise ValueError(\"No filename found in path\")\n",
    "\n",
    "    train = train_data\n",
    "\n",
    "    # Convert path to lowercase for case-insensitive checks\n",
    "    path_lower = path.lower()\n",
    "    if 'train' in path_lower:\n",
    "        updated_path = train / filename\n",
    "    elif 'test' in path_lower:\n",
    "        updated_path = test / filename\n",
    "    else:\n",
    "        raise ValueError(\"Path must contain 'train' or 'test'\")\n",
    "\n",
    "    return str(updated_path)\n",
    "    \n",
    "# Clean the DataFrame and apply the function\n",
    "try:\n",
    "    # Optionally, drop or fill NaN values before applying\n",
    "    train = train.dropna(subset=['tifPath'])  # Drop rows with NaN in tifPath\n",
    "    train['tifPath'] = train['tifPath'].apply(update_tif_path)\n",
    "except ValueError as e:\n",
    "    print(f\"Error updating paths: {e}\")\n",
    "\n",
    "display(train.shape)\n",
    "train.head()"
   ]
  },
  {
   "cell_type": "code",
   "execution_count": 14,
   "id": "98744ea8",
   "metadata": {
    "execution": {
     "iopub.execute_input": "2025-07-17T19:28:14.568353Z",
     "iopub.status.busy": "2025-07-17T19:28:14.567946Z",
     "iopub.status.idle": "2025-07-17T19:28:14.572580Z",
     "shell.execute_reply": "2025-07-17T19:28:14.571925Z"
    },
    "papermill": {
     "duration": 0.013834,
     "end_time": "2025-07-17T19:28:14.574145",
     "exception": false,
     "start_time": "2025-07-17T19:28:14.560311",
     "status": "completed"
    },
    "tags": []
   },
   "outputs": [],
   "source": [
    "# Constants\n",
    "STEP = 10 # Dynamic Indexing Strategy purpose\n",
    "S2_BANDS = [\"red\", \"nir\", \"swir16\", \"swir22\", \"blue\", \"green\", \"rededge1\", \"rededge2\", \"rededge3\", \"nir08\"]\n",
    "SPECIES = [\"rubber\", \"cocoa\", \"oil\"]"
   ]
  },
  {
   "cell_type": "code",
   "execution_count": 15,
   "id": "63930d04",
   "metadata": {
    "execution": {
     "iopub.execute_input": "2025-07-17T19:28:14.589494Z",
     "iopub.status.busy": "2025-07-17T19:28:14.588668Z",
     "iopub.status.idle": "2025-07-17T19:28:14.593571Z",
     "shell.execute_reply": "2025-07-17T19:28:14.592780Z"
    },
    "papermill": {
     "duration": 0.014233,
     "end_time": "2025-07-17T19:28:14.595013",
     "exception": false,
     "start_time": "2025-07-17T19:28:14.580780",
     "status": "completed"
    },
    "tags": []
   },
   "outputs": [],
   "source": [
    "import os\n",
    "\n",
    "## Utility function - count the number of files in a folder:\n",
    "def count_all_files(folder_path):\n",
    "    file_count = 0\n",
    "    for root, dirs, files in os.walk(folder_path):\n",
    "        file_count += len(files)\n",
    "    return file_count"
   ]
  },
  {
   "cell_type": "code",
   "execution_count": 16,
   "id": "1b8064e0",
   "metadata": {
    "execution": {
     "iopub.execute_input": "2025-07-17T19:28:14.610335Z",
     "iopub.status.busy": "2025-07-17T19:28:14.609562Z",
     "iopub.status.idle": "2025-07-17T19:28:28.809114Z",
     "shell.execute_reply": "2025-07-17T19:28:28.808027Z"
    },
    "papermill": {
     "duration": 14.208968,
     "end_time": "2025-07-17T19:28:28.810718",
     "exception": false,
     "start_time": "2025-07-17T19:28:14.601750",
     "status": "completed"
    },
    "tags": []
   },
   "outputs": [
    {
     "name": "stdout",
     "output_type": "stream",
     "text": [
      "📁 Total number of images from GEE in '/kaggle/input/cote-divoire-byte-sized-agriculture-challenge/cote-divoire-byte-sized-agriculture-challenge/S2Images/S2Images/train': 7433\n"
     ]
    }
   ],
   "source": [
    "folder_path = train_data\n",
    "total_files = count_all_files(folder_path)\n",
    "print(f\"📁 Total number of images from GEE in '{folder_path}': {total_files}\")"
   ]
  },
  {
   "cell_type": "code",
   "execution_count": 17,
   "id": "3e4a252f",
   "metadata": {
    "execution": {
     "iopub.execute_input": "2025-07-17T19:28:28.827097Z",
     "iopub.status.busy": "2025-07-17T19:28:28.826513Z",
     "iopub.status.idle": "2025-07-17T19:51:19.752490Z",
     "shell.execute_reply": "2025-07-17T19:51:19.751315Z"
    },
    "papermill": {
     "duration": 1370.936162,
     "end_time": "2025-07-17T19:51:19.755037",
     "exception": false,
     "start_time": "2025-07-17T19:28:28.818875",
     "status": "completed"
    },
    "tags": []
   },
   "outputs": [
    {
     "name": "stdout",
     "output_type": "stream",
     "text": [
      "['/kaggle/input/cote-divoire-byte-sized-agriculture-challenge/cote-divoire-byte-sized-agriculture-challenge/S2Images/S2Images/train/s2_Rubber_ID_h14T0B_2024_01.tif']\n"
     ]
    },
    {
     "name": "stderr",
     "output_type": "stream",
     "text": [
      "100%|██████████| 7433/7433 [22:46<00:00,  5.44it/s]\n"
     ]
    }
   ],
   "source": [
    "def process_images(filenames, train_df):\n",
    "    arrays, masks, latlons, image_names, labels, dynamic_worlds, months = [], [], [], [], [], [], []\n",
    "    \n",
    "    # Create a month mapping for string to index (0-based)\n",
    "    month_map = {\n",
    "        'jan': 0, 'feb': 1, 'mar': 2, 'apr': 3, 'may': 4, 'jun': 5,\n",
    "        'jul': 6, 'aug': 7, 'sep': 8, 'oct': 9, 'nov': 10, 'dec': 11\n",
    "    }\n",
    "    \n",
    "    for filename in tqdm(filenames):\n",
    "        tif_file = xarray.open_rasterio(DATA / filename.strip())\n",
    "        crs = tif_file.crs.split(\":\")[-1]\n",
    "        transformer = Transformer.from_crs(crs, \"EPSG:4326\", always_xy=True)\n",
    "        \n",
    "        # Get the month from the train DataFrame\n",
    "        # Extract the filename from the full path for matching\n",
    "        filename_base = Path(filename).name\n",
    "        month_str = train_df[train_df['tifPath'].str.endswith(filename_base)]['month'].iloc[0].lower()\n",
    "        month_idx = month_map.get(month_str, 0)  # Default to 0 if month is invalid\n",
    "        \n",
    "        # Dynamic Indexing Strategy\n",
    "        h, w = tif_file.shape[-2], tif_file.shape[-1]\n",
    "        indices_x = [i for i in range(0, h, STEP) if i < len(tif_file.x)]\n",
    "        indices_y = [j for j in range(0, w, STEP) if j < len(tif_file.y)]\n",
    "        \n",
    "        for x_idx in indices_x:\n",
    "            for y_idx in indices_y:\n",
    "                # Get latitudes and longitudes\n",
    "                x, y = tif_file.x[x_idx], tif_file.y[y_idx]\n",
    "                lon, lat = transformer.transform(x, y) \n",
    "                latlons.append(torch.tensor([lat, lon]))\n",
    "                \n",
    "                # Get EO data, mask, and dynamic world\n",
    "                s2_data_for_pixel = torch.from_numpy(tif_file.values[:, x_idx, y_idx].astype(int)).float()\n",
    "                s2_data_with_time_dimension = s2_data_for_pixel.unsqueeze(0)\n",
    "                x, mask, dynamic_world = presto.construct_single_presto_input(\n",
    "                    s2=s2_data_with_time_dimension, s2_bands=S2_BANDS\n",
    "                )\n",
    "                arrays.append(x)\n",
    "                masks.append(mask)\n",
    "                dynamic_worlds.append(dynamic_world)\n",
    "                \n",
    "                # Assign month\n",
    "                months.append(month_idx)\n",
    "                \n",
    "                # Assign label using crop_type from DataFrame for reliability\n",
    "                crop_type = train_df[train_df['tifPath'].str.endswith(filename_base)]['crop_type'].iloc[0]\n",
    "                label_map = {'rubber': 0, 'cocoa': 1, 'oil': 2}\n",
    "                label = label_map.get(crop_type, -1)  # -1 for unexpected cases\n",
    "                labels.append(label)\n",
    "                image_names.append(filename)\n",
    "\n",
    "    return (torch.stack(arrays, axis=0),\n",
    "            torch.stack(masks, axis=0),\n",
    "            torch.stack(dynamic_worlds, axis=0),\n",
    "            torch.stack(latlons, axis=0),\n",
    "            torch.tensor(labels),\n",
    "            image_names,\n",
    "            torch.tensor(months, dtype=torch.long))\n",
    "\n",
    "# Usage\n",
    "train_files = list(train.tifPath)\n",
    "print(train_files[:1])\n",
    "train_data = process_images(train_files, train)  # Pass the train DataFrame"
   ]
  },
  {
   "cell_type": "code",
   "execution_count": 18,
   "id": "b3b23baa",
   "metadata": {
    "execution": {
     "iopub.execute_input": "2025-07-17T19:51:20.602968Z",
     "iopub.status.busy": "2025-07-17T19:51:20.601179Z",
     "iopub.status.idle": "2025-07-17T19:51:20.825381Z",
     "shell.execute_reply": "2025-07-17T19:51:20.824168Z"
    },
    "papermill": {
     "duration": 0.690543,
     "end_time": "2025-07-17T19:51:20.827513",
     "exception": false,
     "start_time": "2025-07-17T19:51:20.136970",
     "status": "completed"
    },
    "tags": []
   },
   "outputs": [
    {
     "data": {
      "text/plain": [
       "Presto(\n",
       "  (encoder): Encoder(\n",
       "    (eo_patch_embed): ModuleDict(\n",
       "      (S1): Linear(in_features=2, out_features=128, bias=True)\n",
       "      (S2_RGB): Linear(in_features=3, out_features=128, bias=True)\n",
       "      (S2_Red_Edge): Linear(in_features=3, out_features=128, bias=True)\n",
       "      (S2_NIR_10m): Linear(in_features=1, out_features=128, bias=True)\n",
       "      (S2_NIR_20m): Linear(in_features=1, out_features=128, bias=True)\n",
       "      (S2_SWIR): Linear(in_features=2, out_features=128, bias=True)\n",
       "      (ERA5): Linear(in_features=2, out_features=128, bias=True)\n",
       "      (SRTM): Linear(in_features=2, out_features=128, bias=True)\n",
       "      (NDVI): Linear(in_features=1, out_features=128, bias=True)\n",
       "    )\n",
       "    (dw_embed): Embedding(10, 128)\n",
       "    (latlon_embed): Linear(in_features=3, out_features=128, bias=True)\n",
       "    (blocks): ModuleList(\n",
       "      (0-1): 2 x Block(\n",
       "        (norm1): LayerNorm((128,), eps=1e-05, elementwise_affine=True)\n",
       "        (attn): Attention(\n",
       "          (qkv): Linear(in_features=128, out_features=384, bias=True)\n",
       "          (q_norm): Identity()\n",
       "          (k_norm): Identity()\n",
       "          (attn_drop): Dropout(p=0.0, inplace=False)\n",
       "          (proj): Linear(in_features=128, out_features=128, bias=True)\n",
       "          (proj_drop): Dropout(p=0.0, inplace=False)\n",
       "        )\n",
       "        (ls1): Identity()\n",
       "        (norm2): LayerNorm((128,), eps=1e-05, elementwise_affine=True)\n",
       "        (mlp): Mlp(\n",
       "          (fc1): Linear(in_features=128, out_features=512, bias=True)\n",
       "          (act): GELU(approximate='none')\n",
       "          (drop1): Dropout(p=0.0, inplace=False)\n",
       "          (fc2): Linear(in_features=512, out_features=128, bias=True)\n",
       "          (drop2): Dropout(p=0.0, inplace=False)\n",
       "        )\n",
       "        (ls2): Identity()\n",
       "      )\n",
       "    )\n",
       "    (norm): LayerNorm((128,), eps=1e-05, elementwise_affine=True)\n",
       "    (month_embed): Embedding(12, 32)\n",
       "    (channel_embed): Embedding(10, 32)\n",
       "  )\n",
       "  (decoder): Decoder(\n",
       "    (decoder_embed): Linear(in_features=128, out_features=128, bias=True)\n",
       "    (decoder_blocks): ModuleList(\n",
       "      (0-1): 2 x Block(\n",
       "        (norm1): LayerNorm((128,), eps=1e-05, elementwise_affine=True)\n",
       "        (attn): Attention(\n",
       "          (qkv): Linear(in_features=128, out_features=384, bias=True)\n",
       "          (q_norm): Identity()\n",
       "          (k_norm): Identity()\n",
       "          (attn_drop): Dropout(p=0.0, inplace=False)\n",
       "          (proj): Linear(in_features=128, out_features=128, bias=True)\n",
       "          (proj_drop): Dropout(p=0.0, inplace=False)\n",
       "        )\n",
       "        (ls1): Identity()\n",
       "        (norm2): LayerNorm((128,), eps=1e-05, elementwise_affine=True)\n",
       "        (mlp): Mlp(\n",
       "          (fc1): Linear(in_features=128, out_features=512, bias=True)\n",
       "          (act): GELU(approximate='none')\n",
       "          (drop1): Dropout(p=0.0, inplace=False)\n",
       "          (fc2): Linear(in_features=512, out_features=128, bias=True)\n",
       "          (drop2): Dropout(p=0.0, inplace=False)\n",
       "        )\n",
       "        (ls2): Identity()\n",
       "      )\n",
       "    )\n",
       "    (decoder_norm): LayerNorm((128,), eps=1e-05, elementwise_affine=True)\n",
       "    (eo_decoder_pred): ModuleDict(\n",
       "      (S1): Linear(in_features=128, out_features=2, bias=True)\n",
       "      (S2_RGB): Linear(in_features=128, out_features=3, bias=True)\n",
       "      (S2_Red_Edge): Linear(in_features=128, out_features=3, bias=True)\n",
       "      (S2_NIR_10m): Linear(in_features=128, out_features=1, bias=True)\n",
       "      (S2_NIR_20m): Linear(in_features=128, out_features=1, bias=True)\n",
       "      (S2_SWIR): Linear(in_features=128, out_features=2, bias=True)\n",
       "      (ERA5): Linear(in_features=128, out_features=2, bias=True)\n",
       "      (SRTM): Linear(in_features=128, out_features=2, bias=True)\n",
       "      (NDVI): Linear(in_features=128, out_features=1, bias=True)\n",
       "    )\n",
       "    (dw_decoder_pred): Linear(in_features=128, out_features=9, bias=True)\n",
       "    (channel_embeddings): Embedding(10, 32)\n",
       "    (month_embed): Embedding(12, 48)\n",
       "  )\n",
       ")"
      ]
     },
     "execution_count": 18,
     "metadata": {},
     "output_type": "execute_result"
    }
   ],
   "source": [
    "batch_size = 64\n",
    "\n",
    "# Model Weights Not Downloaded issue\n",
    "from presto import Presto\n",
    "\n",
    "# Define the path where you have the model weights\n",
    "local_model_path = \"/kaggle/input/amini-geofm-decoding-the-field/default_model.pt\"\n",
    "\n",
    "# 1. Construct an uninitialized Presto model instance\n",
    "pretrained_model = Presto.construct()\n",
    "\n",
    "# 2. Load the state dictionary from your local file\n",
    "state_dict = torch.load(local_model_path, map_location=device)\n",
    "\n",
    "# 3. Load the state dictionary into your model\n",
    "pretrained_model.load_state_dict(state_dict)\n",
    "\n",
    "# Set the model to evaluation mode (important for inference)\n",
    "pretrained_model.to(device)\n",
    "pretrained_model.eval()"
   ]
  },
  {
   "cell_type": "code",
   "execution_count": 19,
   "id": "7d3d8195",
   "metadata": {
    "execution": {
     "iopub.execute_input": "2025-07-17T19:51:21.608294Z",
     "iopub.status.busy": "2025-07-17T19:51:21.607884Z",
     "iopub.status.idle": "2025-07-17T19:51:21.619191Z",
     "shell.execute_reply": "2025-07-17T19:51:21.617977Z"
    },
    "papermill": {
     "duration": 0.393219,
     "end_time": "2025-07-17T19:51:21.621130",
     "exception": false,
     "start_time": "2025-07-17T19:51:21.227911",
     "status": "completed"
    },
    "tags": []
   },
   "outputs": [],
   "source": [
    "# Use the months from process_images instead of hardcoded [0]\n",
    "dl = DataLoader(\n",
    "    TensorDataset(\n",
    "        train_data[0].float(),  # x\n",
    "        train_data[1].bool(),   # mask\n",
    "        train_data[2].long(),   # dynamic world\n",
    "        train_data[3].float(),  # latlons\n",
    "        train_data[6].long()    # months (from process_images)\n",
    "    ),\n",
    "    batch_size=batch_size,\n",
    "    shuffle=False,\n",
    ")"
   ]
  },
  {
   "cell_type": "code",
   "execution_count": 20,
   "id": "020b97c9",
   "metadata": {
    "execution": {
     "iopub.execute_input": "2025-07-17T19:51:22.455922Z",
     "iopub.status.busy": "2025-07-17T19:51:22.455380Z",
     "iopub.status.idle": "2025-07-17T19:52:18.588869Z",
     "shell.execute_reply": "2025-07-17T19:52:18.587921Z"
    },
    "papermill": {
     "duration": 56.589704,
     "end_time": "2025-07-17T19:52:18.590736",
     "exception": false,
     "start_time": "2025-07-17T19:51:22.001032",
     "status": "completed"
    },
    "tags": []
   },
   "outputs": [
    {
     "name": "stderr",
     "output_type": "stream",
     "text": [
      "100%|██████████| 4610/4610 [00:56<00:00, 82.25it/s]\n"
     ]
    }
   ],
   "source": [
    "features_list = []\n",
    "\n",
    "for (x, mask, dw, latlons, month) in tqdm(dl):\n",
    "    # Move all tensors to the same device as the model\n",
    "    x = x.to(device)\n",
    "    mask = mask.to(device)\n",
    "    dw = dw.to(device)\n",
    "    latlons = latlons.to(device)\n",
    "    month = month.to(device)\n",
    "    \n",
    "    with torch.no_grad():\n",
    "        encodings = (\n",
    "            pretrained_model.encoder(\n",
    "                x, dynamic_world=dw, mask=mask, latlons=latlons, month=month\n",
    "            )\n",
    "            .cpu()  # Move result to CPU for numpy conversion\n",
    "            .numpy()\n",
    "        )\n",
    "        features_list.append(encodings)\n",
    "\n",
    "features_np = np.concatenate(features_list)"
   ]
  },
  {
   "cell_type": "code",
   "execution_count": 21,
   "id": "0e37d851",
   "metadata": {
    "execution": {
     "iopub.execute_input": "2025-07-17T19:52:19.442288Z",
     "iopub.status.busy": "2025-07-17T19:52:19.441204Z",
     "iopub.status.idle": "2025-07-17T19:52:19.450983Z",
     "shell.execute_reply": "2025-07-17T19:52:19.449968Z"
    },
    "papermill": {
     "duration": 0.473144,
     "end_time": "2025-07-17T19:52:19.452398",
     "exception": false,
     "start_time": "2025-07-17T19:52:18.979254",
     "status": "completed"
    },
    "tags": []
   },
   "outputs": [
    {
     "name": "stdout",
     "output_type": "stream",
     "text": [
      "Number of samples: 295021\n",
      "Label distribution: [111352  84485  99184]\n"
     ]
    }
   ],
   "source": [
    "# Verify data\n",
    "print(f\"Number of samples: {len(train_data[4])}\")  # Should be 7433\n",
    "print(f\"Label distribution: {np.bincount(train_data[4].numpy())}\")  # Approx [3060, 1888, 2485]\n",
    "\n",
    "# Define class weights\n",
    "class_counts = np.bincount(train_data[4].numpy())\n",
    "total_samples = len(train_data[4].numpy())\n",
    "class_weights = total_samples / (len(class_counts) * class_counts)\n",
    "class_weights_dict = {0: class_weights[0], 1: class_weights[1], 2: class_weights[2]}"
   ]
  },
  {
   "cell_type": "code",
   "execution_count": 22,
   "id": "0a950890",
   "metadata": {
    "execution": {
     "iopub.execute_input": "2025-07-17T19:52:20.212619Z",
     "iopub.status.busy": "2025-07-17T19:52:20.211752Z",
     "iopub.status.idle": "2025-07-17T19:58:03.638698Z",
     "shell.execute_reply": "2025-07-17T19:58:03.637559Z"
    },
    "papermill": {
     "duration": 344.187367,
     "end_time": "2025-07-17T19:58:04.021312",
     "exception": false,
     "start_time": "2025-07-17T19:52:19.833945",
     "status": "completed"
    },
    "tags": []
   },
   "outputs": [
    {
     "name": "stdout",
     "output_type": "stream",
     "text": [
      "Model 1 trained\n",
      "Model 2 trained\n",
      "Model 3 trained\n",
      "CPU times: user 22min 10s, sys: 2.05 s, total: 22min 12s\n",
      "Wall time: 5min 43s\n"
     ]
    }
   ],
   "source": [
    "%%time\n",
    "\n",
    "from sklearn.ensemble import RandomForestClassifier\n",
    "from sklearn.model_selection import train_test_split\n",
    "\n",
    "# 2 Strong Random Forest Configs\n",
    "configs = [\n",
    "    {\"n_estimators\": 300, \"class_weight\": class_weights_dict, \"random_state\": SEED, \"n_jobs\": -1},\n",
    "    {\"n_estimators\": 300, \"class_weight\": class_weights_dict, \"random_state\": 2025, \"n_jobs\": -1},\n",
    "    {\"n_estimators\": 300, \"class_weight\": class_weights_dict, \"random_state\": 0, \"n_jobs\": -1},\n",
    "]\n",
    "\n",
    "# Train all models\n",
    "rf_models = []\n",
    "for i, config in enumerate(configs):\n",
    "    model = RandomForestClassifier(**config)\n",
    "    model.fit(features_np[:200000], train_data[4].numpy()[:200000])\n",
    "    rf_models.append(model)\n",
    "    print(f\"Model {i+1} trained\")"
   ]
  },
  {
   "cell_type": "code",
   "execution_count": 23,
   "id": "8eb10245",
   "metadata": {
    "execution": {
     "iopub.execute_input": "2025-07-17T19:58:04.867032Z",
     "iopub.status.busy": "2025-07-17T19:58:04.866669Z",
     "iopub.status.idle": "2025-07-17T19:58:04.874547Z",
     "shell.execute_reply": "2025-07-17T19:58:04.873513Z"
    },
    "papermill": {
     "duration": 0.477301,
     "end_time": "2025-07-17T19:58:04.876030",
     "exception": false,
     "start_time": "2025-07-17T19:58:04.398729",
     "status": "completed"
    },
    "tags": []
   },
   "outputs": [],
   "source": [
    "from presto import construct_single_presto_input\n",
    "from torch.nn.utils.rnn import pad_sequence\n",
    "from tqdm import tqdm\n",
    "from torch.utils.data import DataLoader, TensorDataset\n",
    "\n",
    "def build_input_from_dataframe(df_pixel):\n",
    "    df_pixel = df_pixel.sort_values(\"time\")\n",
    "    \n",
    "    # Select a single time step (first time step, to match training pipeline)\n",
    "    single_time_step = df_pixel.iloc[0]\n",
    "    \n",
    "    # Convert S2 band data to float, mimicking training pipeline’s numeric input\n",
    "    s2_data = single_time_step[S2_BANDS].astype(float).values  # Shape: [C]\n",
    "    s2_data = torch.tensor(s2_data).float()  # Shape: [C]\n",
    "    s2_data_with_time_dimension = s2_data.unsqueeze(0)  # Shape: [1, C]\n",
    "    \n",
    "    # Generate Presto inputs\n",
    "    x, mask, dw = construct_single_presto_input(s2=s2_data_with_time_dimension, s2_bands=S2_BANDS)\n",
    "    \n",
    "    # Ensure dynamic_world is torch.long\n",
    "    if dw.dtype != torch.long:\n",
    "        dw = dw.long()  # Cast to torch.long if necessary\n",
    "        # print(f\"Warning: dynamic_world cast to torch.long for unique_id {df_pixel['unique_id'].iloc[0]}\")\n",
    "    \n",
    "    lat = single_time_step['y']\n",
    "    lon = single_time_step['x']\n",
    "    latlon = torch.tensor([lat, lon]).float()\n",
    "    \n",
    "    # Extract month index (0–11) for the selected time step\n",
    "    month = torch.tensor([pd.to_datetime(single_time_step['time']).month - 1], dtype=torch.long)\n",
    "    \n",
    "    return x, mask, dw, latlon, month"
   ]
  },
  {
   "cell_type": "code",
   "execution_count": 24,
   "id": "7477525a",
   "metadata": {
    "execution": {
     "iopub.execute_input": "2025-07-17T19:58:05.677790Z",
     "iopub.status.busy": "2025-07-17T19:58:05.677428Z",
     "iopub.status.idle": "2025-07-17T19:58:34.421033Z",
     "shell.execute_reply": "2025-07-17T19:58:34.420138Z"
    },
    "papermill": {
     "duration": 29.161452,
     "end_time": "2025-07-17T19:58:34.422763",
     "exception": false,
     "start_time": "2025-07-17T19:58:05.261311",
     "status": "completed"
    },
    "tags": []
   },
   "outputs": [
    {
     "name": "stderr",
     "output_type": "stream",
     "text": [
      "Processing test groups: 100%|██████████| 10523/10523 [00:23<00:00, 444.80it/s]\n"
     ]
    }
   ],
   "source": [
    "# Load test data and clean S2 band columns\n",
    "test = pd.read_csv(\"/kaggle/input/amini-geofm-decoding-the-field/test.csv\")\n",
    "\n",
    "# Convert S2 band columns to numeric, handling invalid values\n",
    "for band in S2_BANDS:\n",
    "    test[band] = pd.to_numeric(test[band], errors='coerce')\n",
    "    if test[band].isnull().any():\n",
    "        print(f\"Warning: NaN values in {band} column, filling with 0\")\n",
    "        test[band] = test[band].fillna(0)  # Replace NaN with 0\n",
    "\n",
    "# Group test data by unique_id\n",
    "grouped = test.groupby(\"unique_id\")\n",
    "\n",
    "all_x, all_mask, all_dw, all_latlons, all_months, test_ids = [], [], [], [], [], []\n",
    "\n",
    "for unique_id, pixel_df in tqdm(grouped, desc=\"Processing test groups\"):\n",
    "    x, mask, dw, latlon, month = build_input_from_dataframe(pixel_df)\n",
    "    all_x.append(x)\n",
    "    all_mask.append(mask)\n",
    "    all_dw.append(dw)\n",
    "    all_latlons.append(latlon)\n",
    "    all_months.append(month)\n",
    "    test_ids.append(unique_id)\n",
    "\n",
    "# Pad sequences (minimal, since T=1)\n",
    "X_test = pad_sequence(all_x, batch_first=True, padding_value=0.0)  # Shape: [N, 1, C]\n",
    "MASK_test = pad_sequence(all_mask, batch_first=True, padding_value=0.0)  # Shape: [N, 1, C]\n",
    "DW_test = pad_sequence(all_dw, batch_first=True, padding_value=0.0)  # Shape: [N, 1]\n",
    "MONTHS_test = pad_sequence(all_months, batch_first=True, padding_value=0)  # Shape: [N, 1]\n",
    "LATLONS_test = torch.stack(all_latlons)  # Shape: [N, 2]"
   ]
  },
  {
   "cell_type": "code",
   "execution_count": 25,
   "id": "13eaa39d",
   "metadata": {
    "execution": {
     "iopub.execute_input": "2025-07-17T19:58:35.301743Z",
     "iopub.status.busy": "2025-07-17T19:58:35.300807Z",
     "iopub.status.idle": "2025-07-17T19:58:36.740985Z",
     "shell.execute_reply": "2025-07-17T19:58:36.739935Z"
    },
    "papermill": {
     "duration": 1.843916,
     "end_time": "2025-07-17T19:58:36.742519",
     "exception": false,
     "start_time": "2025-07-17T19:58:34.898603",
     "status": "completed"
    },
    "tags": []
   },
   "outputs": [
    {
     "name": "stderr",
     "output_type": "stream",
     "text": [
      "Generating embeddings: 100%|██████████| 165/165 [00:01<00:00, 115.66it/s]\n"
     ]
    }
   ],
   "source": [
    "# Create DataLoader\n",
    "test_dl = DataLoader(\n",
    "    TensorDataset(X_test, MASK_test, DW_test, LATLONS_test, MONTHS_test),\n",
    "    batch_size=64,\n",
    "    shuffle=False\n",
    ")\n",
    "\n",
    "# Generate embeddings\n",
    "embeddings = []\n",
    "pretrained_model.eval()  # Ensure model is in evaluation mode\n",
    "with torch.no_grad():\n",
    "    for batch in tqdm(test_dl, desc=\"Generating embeddings\"):\n",
    "        x, mask, dw, latlons, months = [b.to(device) for b in batch]\n",
    "        emb = pretrained_model.encoder(\n",
    "            x, dynamic_world=dw, mask=mask, latlons=latlons, month=months\n",
    "        )\n",
    "        embeddings.append(emb.cpu())  # Shape: [batch_size, embedding_dim]\n",
    "\n",
    "embeddings = torch.cat(embeddings, dim=0)  # Shape: [N, embedding_dim]"
   ]
  },
  {
   "cell_type": "code",
   "execution_count": 26,
   "id": "5a4c3940",
   "metadata": {
    "execution": {
     "iopub.execute_input": "2025-07-17T19:58:37.604818Z",
     "iopub.status.busy": "2025-07-17T19:58:37.604484Z",
     "iopub.status.idle": "2025-07-17T19:58:38.151474Z",
     "shell.execute_reply": "2025-07-17T19:58:38.150452Z"
    },
    "papermill": {
     "duration": 1.017691,
     "end_time": "2025-07-17T19:58:38.153121",
     "exception": false,
     "start_time": "2025-07-17T19:58:37.135430",
     "status": "completed"
    },
    "tags": []
   },
   "outputs": [
    {
     "name": "stdout",
     "output_type": "stream",
     "text": [
      "Model 1 predictions generated\n",
      "Model 2 predictions generated\n",
      "Model 3 predictions generated\n"
     ]
    }
   ],
   "source": [
    "def ensemble_predict_proba(models, X_test):\n",
    "    \"\"\"\n",
    "    Get ensemble predictions by averaging probabilities from all models\n",
    "    \"\"\"\n",
    "    all_probabilities = []\n",
    "    \n",
    "    # Get predictions from each model\n",
    "    for i, model in enumerate(models):\n",
    "        probs = model.predict_proba(X_test)\n",
    "        all_probabilities.append(probs)\n",
    "        print(f\"Model {i+1} predictions generated\")\n",
    "    \n",
    "    # Convert to numpy array for easier manipulation\n",
    "    all_probabilities = np.array(all_probabilities)\n",
    "    \n",
    "    # Average probabilities across all models\n",
    "    ensemble_probabilities = np.mean(all_probabilities, axis=0)\n",
    "    \n",
    "    return ensemble_probabilities\n",
    "\n",
    "test_predictions_probs = ensemble_predict_proba(rf_models, embeddings)"
   ]
  },
  {
   "cell_type": "code",
   "execution_count": 27,
   "id": "b95a52d0",
   "metadata": {
    "execution": {
     "iopub.execute_input": "2025-07-17T19:58:38.951610Z",
     "iopub.status.busy": "2025-07-17T19:58:38.951230Z",
     "iopub.status.idle": "2025-07-17T19:58:39.103193Z",
     "shell.execute_reply": "2025-07-17T19:58:39.102308Z"
    },
    "papermill": {
     "duration": 0.550796,
     "end_time": "2025-07-17T19:58:39.104764",
     "exception": false,
     "start_time": "2025-07-17T19:58:38.553968",
     "status": "completed"
    },
    "tags": []
   },
   "outputs": [
    {
     "data": {
      "image/png": "[encoded data removed]",
      "text/plain": [
       "<Figure size 800x600 with 1 Axes>"
      ]
     },
     "metadata": {},
     "output_type": "display_data"
    }
   ],
   "source": [
    "import matplotlib.pyplot as plt\n",
    "import numpy as np\n",
    "\n",
    "# Compute average probabilities\n",
    "avg_probs = np.mean(test_predictions_probs, axis=0)\n",
    "labels = ['Rubber', 'Cocoa', 'Oil']\n",
    "colors = ['teal', 'red', 'gold']\n",
    "\n",
    "# Create bar plot\n",
    "plt.figure(figsize=(8, 6))\n",
    "plt.bar(labels, avg_probs, color=colors, edgecolor='black')\n",
    "plt.title('Predicted Probability Distribution for Crop Types')\n",
    "plt.xlabel('Crop Type')\n",
    "plt.ylabel('Average Predicted Probability')\n",
    "plt.ylim(0, 1)\n",
    "plt.show()"
   ]
  },
  {
   "cell_type": "code",
   "execution_count": 28,
   "id": "45703457",
   "metadata": {
    "execution": {
     "iopub.execute_input": "2025-07-17T19:58:39.963940Z",
     "iopub.status.busy": "2025-07-17T19:58:39.963587Z",
     "iopub.status.idle": "2025-07-17T19:58:39.972293Z",
     "shell.execute_reply": "2025-07-17T19:58:39.971254Z"
    },
    "papermill": {
     "duration": 0.405121,
     "end_time": "2025-07-17T19:58:39.973780",
     "exception": false,
     "start_time": "2025-07-17T19:58:39.568659",
     "status": "completed"
    },
    "tags": []
   },
   "outputs": [],
   "source": [
    "# Construct submission DataFrame\n",
    "submission = pd.DataFrame({\n",
    "    'unique_id': test_ids,\n",
    "    'crop_type_cocoa': test_predictions_probs[:, 1],  # cocoa (label 1)\n",
    "    'crop_type_oil': test_predictions_probs[:, 2],    # oil (label 2)\n",
    "    'crop_type_rubber': test_predictions_probs[:, 0], # rubber (label 0)\n",
    "})"
   ]
  },
  {
   "cell_type": "code",
   "execution_count": 29,
   "id": "2530abab",
   "metadata": {
    "execution": {
     "iopub.execute_input": "2025-07-17T19:58:40.842145Z",
     "iopub.status.busy": "2025-07-17T19:58:40.841417Z",
     "iopub.status.idle": "2025-07-17T19:58:40.920013Z",
     "shell.execute_reply": "2025-07-17T19:58:40.918947Z"
    },
    "papermill": {
     "duration": 0.556716,
     "end_time": "2025-07-17T19:58:40.921572",
     "exception": false,
     "start_time": "2025-07-17T19:58:40.364856",
     "status": "completed"
    },
    "tags": []
   },
   "outputs": [
    {
     "data": {
      "text/html": [
       "<div>\n",
       "<style scoped>\n",
       "    .dataframe tbody tr th:only-of-type {\n",
       "        vertical-align: middle;\n",
       "    }\n",
       "\n",
       "    .dataframe tbody tr th {\n",
       "        vertical-align: top;\n",
       "    }\n",
       "\n",
       "    .dataframe thead th {\n",
       "        text-align: right;\n",
       "    }\n",
       "</style>\n",
       "<table border=\"1\" class=\"dataframe\">\n",
       "  <thead>\n",
       "    <tr style=\"text-align: right;\">\n",
       "      <th></th>\n",
       "      <th>unique_id</th>\n",
       "      <th>crop_type_cocoa</th>\n",
       "      <th>crop_type_oil</th>\n",
       "      <th>crop_type_rubber</th>\n",
       "    </tr>\n",
       "  </thead>\n",
       "  <tbody>\n",
       "    <tr>\n",
       "      <th>0</th>\n",
       "      <td>ID_002AIV</td>\n",
       "      <td>0.667778</td>\n",
       "      <td>0.152222</td>\n",
       "      <td>0.180000</td>\n",
       "    </tr>\n",
       "    <tr>\n",
       "      <th>1</th>\n",
       "      <td>ID_0042EI</td>\n",
       "      <td>0.217778</td>\n",
       "      <td>0.311111</td>\n",
       "      <td>0.471111</td>\n",
       "    </tr>\n",
       "    <tr>\n",
       "      <th>2</th>\n",
       "      <td>ID_008SD4</td>\n",
       "      <td>0.490000</td>\n",
       "      <td>0.173333</td>\n",
       "      <td>0.336667</td>\n",
       "    </tr>\n",
       "    <tr>\n",
       "      <th>3</th>\n",
       "      <td>ID_00AQE9</td>\n",
       "      <td>0.595556</td>\n",
       "      <td>0.184444</td>\n",
       "      <td>0.220000</td>\n",
       "    </tr>\n",
       "    <tr>\n",
       "      <th>4</th>\n",
       "      <td>ID_00F4A9</td>\n",
       "      <td>0.341111</td>\n",
       "      <td>0.271111</td>\n",
       "      <td>0.387778</td>\n",
       "    </tr>\n",
       "  </tbody>\n",
       "</table>\n",
       "</div>"
      ],
      "text/plain": [
       "   unique_id  crop_type_cocoa  crop_type_oil  crop_type_rubber\n",
       "0  ID_002AIV         0.667778       0.152222          0.180000\n",
       "1  ID_0042EI         0.217778       0.311111          0.471111\n",
       "2  ID_008SD4         0.490000       0.173333          0.336667\n",
       "3  ID_00AQE9         0.595556       0.184444          0.220000\n",
       "4  ID_00F4A9         0.341111       0.271111          0.387778"
      ]
     },
     "metadata": {},
     "output_type": "display_data"
    },
    {
     "name": "stdout",
     "output_type": "stream",
     "text": [
      "earth_presto_rfx3_submission.csv saved for scoring!\n"
     ]
    }
   ],
   "source": [
    "# Preview\n",
    "display(submission.head())\n",
    "\n",
    "# Save submission file\n",
    "submission.to_csv(\"earth_presto_rfx3_submission.csv\", index=False)\n",
    "print('earth_presto_rfx3_submission.csv saved for scoring!')"
   ]
  },
  {
   "cell_type": "code",
   "execution_count": 30,
   "id": "778f9379",
   "metadata": {
    "execution": {
     "iopub.execute_input": "2025-07-17T19:58:41.712556Z",
     "iopub.status.busy": "2025-07-17T19:58:41.712227Z",
     "iopub.status.idle": "2025-07-17T19:58:41.718212Z",
     "shell.execute_reply": "2025-07-17T19:58:41.717302Z"
    },
    "papermill": {
     "duration": 0.400652,
     "end_time": "2025-07-17T19:58:41.719562",
     "exception": false,
     "start_time": "2025-07-17T19:58:41.318910",
     "status": "completed"
    },
    "tags": []
   },
   "outputs": [
    {
     "name": "stdout",
     "output_type": "stream",
     "text": [
      "Notebook runtime: 30 min 58.90 sec\n"
     ]
    }
   ],
   "source": [
    "# Calculate and print runtime\n",
    "end_time = time.time()\n",
    "elapsed = end_time - start_time\n",
    "\n",
    "mins, secs = divmod(elapsed, 60)\n",
    "print(f\"Notebook runtime: {int(mins)} min {secs:.2f} sec\")"
   ]
  }
 ],
 "metadata": {
  "kaggle": {
   "accelerator": "none",
   "dataSources": [
    {
     "datasetId": 7452584,
     "sourceId": 11860186,
     "sourceType": "datasetVersion"
    },
    {
     "datasetId": 7778416,
     "sourceId": 12427014,
     "sourceType": "datasetVersion"
    }
   ],
   "dockerImageVersionId": 31090,
   "isGpuEnabled": false,
   "isInternetEnabled": true,
   "language": "python",
   "sourceType": "notebook"
  },
  "kernelspec": {
   "display_name": "Python 3",
   "language": "python",
   "name": "python3"
  },
  "language_info": {
   "codemirror_mode": {
    "name": "ipython",
    "version": 3
   },
   "file_extension": ".py",
   "mimetype": "text/x-python",
   "name": "python",
   "nbconvert_exporter": "python",
   "pygments_lexer": "ipython3",
   "version": "3.14.0"
  },
  "papermill": {
   "default_parameters": {},
   "duration": 2016.727898,
   "end_time": "2025-07-17T19:58:45.277733",
   "environment_variables": {},
   "exception": null,
   "input_path": "__notebook__.ipynb",
   "output_path": "__notebook__.ipynb",
   "parameters": {},
   "start_time": "2025-07-17T19:25:08.549835",
   "version": "2.6.0"
  }
 },
 "nbformat": 4,
 "nbformat_minor": 5
}
